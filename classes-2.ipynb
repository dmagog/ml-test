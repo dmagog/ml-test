{
 "cells": [
  {
   "cell_type": "markdown",
   "metadata": {},
   "source": [
    "***Задание №1***\n",
    "\n",
    "Спроектировать объектную модель сервиса:\n",
    "* Выделить базовые сущности с которыми будет происходить работа. Пользователь, ML модель, история транзакций/предсказаний, задача для ML модели и т.д.\n",
    "* При проектирование написать названия классов, названия полей, методов, принимаемых типов данных, модификаторов доступа.\n",
    "* При проектирование использовать все базовые принципы ООП, а именно инкапсуляцию, наследование для расширения классов и полиморфизм."
   ]
  },
  {
   "cell_type": "code",
   "execution_count": 1,
   "metadata": {},
   "outputs": [],
   "source": [
    "import numpy as np\n",
    "import pandas as pd\n",
    "import datetime\n",
    "import random"
   ]
  },
  {
   "cell_type": "markdown",
   "metadata": {},
   "source": [
    "## ML-модель"
   ]
  },
  {
   "cell_type": "code",
   "execution_count": null,
   "metadata": {},
   "outputs": [],
   "source": [
    "# Простой класс для хранения модели и ее обще описательных характеристик\n",
    "\n",
    "class MLmodel:\n",
    "    def __init__(self, model, name: str, version: str, description: str,):\n",
    "        self.model = model # сама модель\n",
    "        self.name = name # Название модели\n",
    "        self.version = version # Версия модели\n",
    "        self.description = description # Описательная характеристика модели\n",
    "\n",
    "    def __str__(self):\n",
    "        print(f\"{self.model} \\n\" \\\n",
    "               f\"Название: {self.name} \\n\"  \\\n",
    "               f\"Версия: {self.version} \\n\" \\\n",
    "               f\"Описание: {self.description}\")"
   ]
  },
  {
   "cell_type": "code",
   "execution_count": 3,
   "metadata": {},
   "outputs": [],
   "source": [
    "# Наследуемый класс модели для учета ее параметров использования\n",
    "\n",
    "class UsableModel(MLmodel):\n",
    "    def __init__(self, model: MLmodel, name: str, version: str, description: str, price: float):\n",
    "        super().__init__(model, name, version, description)\n",
    "        self.price = price # Стоимость использования модели\n",
    "\n",
    "        self.StatusOperation = None # Статус последнего запуска\n",
    "        self.Result = None # Результаты работы модели\n",
    "\n",
    "    def run(self):\n",
    "        # Запускаем модель и сообщаем о статусе\n",
    "        self.StatusOperation = bool(random.randint(0, 1)) # Успешность модели пока рандомна - может работать, а может нет\n",
    "        print('| Модель сработала: ', self.StatusOperation, '|\\n' )\n",
    "        self.Result = 'Результаты работы модели'    \n",
    "\n",
    "    def __str__(self):\n",
    "        super().__str__()\n",
    "        print(f\"Стоимость: {self.price} \\n\"  \\\n",
    "              f\"Статус последнего запуска: {self.StatusOperation}\") "
   ]
  },
  {
   "cell_type": "code",
   "execution_count": 4,
   "metadata": {},
   "outputs": [],
   "source": [
    "CurrModel_1 = UsableModel('', 'Убиватор-3000', '1.01', 'Офигенская модель, прям всем советую только ее',\n",
    "                          price = 1)\n",
    "\n",
    "CurrModel_2 = UsableModel('', 'УльтраУбиватор-9000', '3.33', 'Еще более крутая и дорогая модель.',\n",
    "                          price = 2)"
   ]
  },
  {
   "cell_type": "markdown",
   "metadata": {},
   "source": [
    "## Биллинг"
   ]
  },
  {
   "cell_type": "code",
   "execution_count": 5,
   "metadata": {},
   "outputs": [],
   "source": [
    "class PyamentsHistory:\n",
    "\n",
    "    def __init__(self):\n",
    "        self.__LastOperationDate = np.NaN # Дата последней удачной операции\n",
    "        self.__Operations = pd.DataFrame(columns=['Date', 'Operation', 'Val', 'Success']) # Список всех операций и дата свершения\n",
    "\n",
    "    def get(self):\n",
    "        return self.__Operations\n",
    "\n",
    "\n",
    "    def update(self, Date, Operation: str, Val: float, Success: bool):\n",
    "        LastPos = len(self.get())\n",
    "        self.__Operations.loc[LastPos, 'Date'] = Date\n",
    "        self.__Operations.loc[LastPos, 'Operation'] = Operation\n",
    "        self.__Operations.loc[LastPos, 'Val'] = Val\n",
    "        self.__Operations.loc[LastPos, 'Success'] = Success\n",
    "\n",
    "        self.set_lastOperationDate()\n",
    "\n",
    "    def get_Operations(self):\n",
    "        return self.__Operations\n",
    "\n",
    "    def get_lastOperationDate(self):\n",
    "        return self.__LastOperationDate\n",
    "    \n",
    "    def set_lastOperationDate(self, OperationDate = datetime.datetime.now()):\n",
    "        self.__LastOperationDate = OperationDate\n",
    "    "
   ]
  },
  {
   "cell_type": "code",
   "execution_count": 6,
   "metadata": {},
   "outputs": [],
   "source": [
    "class Billing:\n",
    "\n",
    "    def __init__(self, startbalance: float, FreeLimitPerDay: int):\n",
    "        self.__balance = startbalance # Стартовый балланс\n",
    "        self.__FreeLimitToday = FreeLimitPerDay # сколько обесплатных операций осталось на сегодня\n",
    "        self.__FreeLimitPerDay = FreeLimitPerDay # сколько обесплатных операций осталось на сегодня\n",
    "\n",
    "        self.__Operations = PyamentsHistory() #история платежных операций\n",
    "\n",
    "\n",
    "\n",
    "    # Операция пополнения балланса    \n",
    "    def refund(self, payment: float):\n",
    "        self.__balance += payment\n",
    "        print(f\"Пополнение баланса на {payment} ед. прошлошло успешно. Текущий балланс — {self.__balance} ед.\") \n",
    "\n",
    "        self.__Operations.update(Date = datetime.datetime.now(), \n",
    "                              Operation = 'Пополнение баланса', \n",
    "                              Val = payment,\n",
    "                              Success = True)          \n",
    "\n",
    "\n",
    "\n",
    "    # Операция возобновления суточных лимитов\n",
    "    def refillLimits(self, Num = None):\n",
    "        # если Num == 0, значит возобновим лимит полностью\n",
    "        # во всех остальных случаях делаем +Num\n",
    "        if Num == None:\n",
    "            self.__FreeLimitToday = self.__FreeLimitPerDay\n",
    "        else:\n",
    "            self.__FreeLimitToday += Num\n",
    "\n",
    "            self.__Operations.update(Date = datetime.datetime.now(), \n",
    "                              Operation = 'Восполнение суточного лимита бесплатных операций', \n",
    "                              Val = Num,\n",
    "                              Success = True)   \n",
    "        \n",
    "        print(f\"Лимиты бесплатных вызовов в день обновлены. Сейчас доступно — {self.__FreeLimitToday}\")\n",
    "\n",
    "\n",
    "\n",
    "    # Операция получения балланса пользователя\n",
    "    def get_balance(self):\n",
    "        return self.__balance\n",
    "    \n",
    "    # Операция получения балланса пользователя\n",
    "    def get_limits(self):\n",
    "        return self.__FreeLimitToday\n",
    "    \n",
    "    # Операция получения истории операций билинга\n",
    "    def get_operations(self):\n",
    "        return self.__Operations.get_Operations()\n",
    "    \n",
    "\n",
    "    # списываем с дневного лимита \n",
    "    def set_decLimints(self, limitPayment = 1):\n",
    "        if self.get_limits() - limitPayment >= 0:\n",
    "            self.__FreeLimitToday -= limitPayment\n",
    "            return True\n",
    "        else:\n",
    "            return False\n",
    "\n",
    "    # списываем с дневного лимита \n",
    "    def set_decBalance(self, payment = 1):\n",
    "        if self.get_balance() - payment >= 0:\n",
    "            self.__balance -= payment\n",
    "            return True\n",
    "        else:\n",
    "            return False\n",
    "\n",
    "    # Оплата операции\n",
    "    def pay(self, payment: float):\n",
    "        ResultOperation = False # все плохо, если ничто этого не изменит\n",
    "\n",
    "        # Если пользователь не исчерпал бесплатные операции на день - он ничего не платит\n",
    "        # Если исчерпал - платит\n",
    "        if self.set_decLimints(payment):\n",
    "            ResultOperation = True\n",
    "            Operation = 'Списание в счёт суточного лимита'\n",
    "        else:    \n",
    "            if self.set_decBalance(payment):\n",
    "                ResultOperation = True\n",
    "                Operation = 'Списание с баланса счета' \n",
    "\n",
    "            else:\n",
    "                Operation = 'Недостаточно срдеств на счете' \n",
    "                print(f\"Пополните баланс или дождитесь возобновления суточного лимита обращений. \\nДля выполнения операции не хватает {abs(self.get_balance() - payment)} ед.\")\n",
    "            \n",
    "        self.__Operations.update(Date = datetime.datetime.now(), \n",
    "                                Operation = Operation, \n",
    "                                Val = -payment,\n",
    "                                Success = ResultOperation)\n",
    "\n",
    "        return ResultOperation\n",
    "    "
   ]
  },
  {
   "cell_type": "markdown",
   "metadata": {},
   "source": [
    "## История операций"
   ]
  },
  {
   "cell_type": "code",
   "execution_count": 7,
   "metadata": {},
   "outputs": [],
   "source": [
    "class HistoryOperation:\n",
    "    \n",
    "    def __init__(self):\n",
    "        self.LastOperationDate = np.NaN # Дата последней удачной операции\n",
    "        self.HistoryOperation = pd.DataFrame(columns=['Date', 'Operation', 'Success']) # Список всех операций и дата свершения\n",
    "        \n",
    "        self.OperationAll = 0 # Сколько операций сделано за все время\n",
    "        self.OperationToday = 0 # сколько операций сделано сегодня\n",
    "\n",
    "        self.Initiation = False # Прошел ли пользователь инициацию первым успешным использованием сервисв\n",
    "\n",
    "\n",
    "    def get(self):\n",
    "        return self.HistoryOperation\n",
    "\n",
    "\n",
    "    def update(self, Date, Operation: str, Success: bool):\n",
    "        self.set_Initiation()\n",
    "\n",
    "        LastPos = len(self.get())\n",
    "        self.HistoryOperation.loc[LastPos, 'Date'] = Date\n",
    "        self.HistoryOperation.loc[LastPos, 'Operation'] = Operation\n",
    "        self.HistoryOperation.loc[LastPos, 'Success'] = Success\n",
    "\n",
    "        self.set_lastOperationDate()\n",
    "\n",
    "        self.OperationToday += 1\n",
    "        self.OperationAll += 1\n",
    "\n",
    "\n",
    "    def get_lastOperationDate(self):\n",
    "        return self.LastOperationDate\n",
    "    \n",
    "    def set_lastOperationDate(self, OperationDate = datetime.datetime.now()):\n",
    "        self.LastOperationDate = OperationDate\n",
    "\n",
    "\n",
    "    def get_OperationAll(self):\n",
    "        return self.OperationAll\n",
    "\n",
    "    def get_OperationToday(self):\n",
    "        return self.OperationToday\n",
    "\n",
    "\n",
    "    def set_OperationToday(self, Num = 0):\n",
    "        self.OperationToday = Num\n",
    "\n",
    "    def set_Initiation(self):\n",
    "        self.Initiation = True\n",
    "    \n",
    "    def get_Initiation(self):\n",
    "        return self.Initiation"
   ]
  },
  {
   "cell_type": "markdown",
   "metadata": {},
   "source": [
    "## Пользователь"
   ]
  },
  {
   "cell_type": "code",
   "execution_count": 8,
   "metadata": {},
   "outputs": [],
   "source": [
    "import enum\n",
    "\n",
    "class UserRole(enum.IntEnum):\n",
    "    superAdmin = 0\n",
    "    simpleUser = 1\n",
    "    megaUser = 2\n",
    "    gigaUser = 3"
   ]
  },
  {
   "cell_type": "code",
   "execution_count": 9,
   "metadata": {},
   "outputs": [],
   "source": [
    "class User:\n",
    "\n",
    "    def __init__(self, name: str, email: str, role, startbalance: int, FreeLimitPerDay: int):\n",
    "        self.name = name # имя пользователя\n",
    "        self.email = email # электронный адрес для взаимодействия\n",
    "        self.RegDate = datetime.datetime.now() # Дата-время регистрации\n",
    "        self.role = UserRole(role) # Роль, по умолчанию \"пользователь\"\n",
    "        \n",
    "        self.billing = Billing(startbalance, FreeLimitPerDay) # Баланс пользователя в деньгах и свободных лимитах\n",
    "\n",
    "        self.history = HistoryOperation() # история операций пользователя\n",
    "\n",
    "\n",
    "    def useModel(self, payment, model: MLmodel):\n",
    "        #Процедура запуска модели, с проверкой возможности запуска, сохранением параметров и списания баланса\n",
    "        ResultOperation = False # все плохо, если ничто это го не изменит\n",
    "\n",
    "        if self.billing.pay(payment):\n",
    "            # Если платеж прошел или мы можем провести операцию бесплатно в рамках лимита\n",
    "            model.run()\n",
    "            self.history.update(Date = datetime.datetime.now(),\n",
    "                                Operation = 'Запуск модели',\n",
    "                                Success = model.StatusOperation)\n",
    "\n",
    "            if not model.StatusOperation:\n",
    "                # Если запуск модели был неудачный, нужно вернуть оплату \n",
    "                # Если операция шла за счет бесплатных, то вернем клиенту это деньгами (надеюсь, нас не обонкротят :О))\n",
    "                self.billing.refund(payment)\n",
    "            else:\n",
    "                ResultOperation = True\n",
    "\n",
    "        return ResultOperation"
   ]
  },
  {
   "cell_type": "code",
   "execution_count": 10,
   "metadata": {},
   "outputs": [],
   "source": [
    "# Функция вывода профиля пользователя\n",
    "def showUserDetails(CurrentUser):\n",
    "    print('Имя пользователя = ', CurrentUser.name)\n",
    "    print('Эл. почта = ', CurrentUser.email)\n",
    "    print('Дата регистрации = ', CurrentUser.RegDate)\n",
    "    print('Роль = ', CurrentUser.role)\n",
    "    print('Бесплатных операций в день = ', CurrentUser.billing.get_limits())\n",
    "\n",
    "    print()\n",
    "    print('Балланс = ', CurrentUser.billing.get_balance())\n",
    "    print('Бесплатных операций осталось = ', CurrentUser.billing.get_limits())\n",
    "    print('Последняя операция = ', CurrentUser.history.get_lastOperationDate())\n",
    "    print('Всего операций = ', CurrentUser.history.get_OperationAll())\n",
    "    print('Операций cегодня = ', CurrentUser.history.get_OperationToday())\n",
    "\n",
    "\n",
    "    print()\n",
    "    print('Иницализация = ', CurrentUser.history.get_Initiation())\n",
    "\n"
   ]
  },
  {
   "cell_type": "markdown",
   "metadata": {},
   "source": [
    "## Демонстрация работы"
   ]
  },
  {
   "cell_type": "code",
   "execution_count": 11,
   "metadata": {},
   "outputs": [
    {
     "data": {
      "text/plain": [
       "<__main__.User at 0x12686b6e0>"
      ]
     },
     "execution_count": 11,
     "metadata": {},
     "output_type": "execute_result"
    }
   ],
   "source": [
    "# Создание пользователя\n",
    "CurrentUser = User(name = 'dmagog',\n",
    "                   email = 'georgy-mamarin@mail.ru',\n",
    "                   role = 1,\n",
    "                   startbalance = 5,\n",
    "                   FreeLimitPerDay = 3)\n",
    "\n",
    "CurrentUser"
   ]
  },
  {
   "cell_type": "code",
   "execution_count": 12,
   "metadata": {},
   "outputs": [
    {
     "name": "stdout",
     "output_type": "stream",
     "text": [
      "| Модель сработала:  False |\n",
      "\n",
      "Пополнение баланса на 2 ед. прошлошло успешно. Текущий балланс — 7 ед.\n",
      "\n",
      "Балланс =  7\n",
      "Бесплатных операций осталось =  1\n",
      "Последняя операция =  2025-03-26 12:44:12.885986\n",
      "Всего операций =  1\n",
      "Операций cегодня =  1\n",
      "\n",
      "                         Date      Operation Success\n",
      "0  2025-03-26 12:44:12.971803  Запуск модели   False\n",
      "\n",
      "                         Date                         Operation Val Success\n",
      "0  2025-03-26 12:44:12.970695  Списание в счёт суточного лимита  -2    True\n",
      "1  2025-03-26 12:44:12.972078                Пополнение баланса   2    True\n"
     ]
    }
   ],
   "source": [
    "# Для демонстрации сделаем выбор модели случайным образом\n",
    "if bool(random.randint(0, 1)): CurrModel = CurrModel_1\n",
    "else: CurrModel = CurrModel_2\n",
    "\n",
    "#Пользователь вызывает модель\n",
    "CurrentUser.useModel(model = CurrModel, \n",
    "                     payment = CurrModel.price)\n",
    "\n",
    "\n",
    "print()\n",
    "print('Балланс = ', CurrentUser.billing.get_balance())\n",
    "print('Бесплатных операций осталось = ', CurrentUser.billing.get_limits())\n",
    "print('Последняя операция = ', CurrentUser.history.get_lastOperationDate())\n",
    "print('Всего операций = ', CurrentUser.history.get_OperationAll())\n",
    "print('Операций cегодня = ', CurrentUser.history.get_OperationToday())\n",
    "\n",
    "print()\n",
    "print(CurrentUser.history.get())\n",
    "\n",
    "print()\n",
    "print(CurrentUser.billing.get_operations())"
   ]
  },
  {
   "cell_type": "code",
   "execution_count": 13,
   "metadata": {},
   "outputs": [
    {
     "name": "stdout",
     "output_type": "stream",
     "text": [
      "Пополнение баланса на 5 ед. прошлошло успешно. Текущий балланс — 12 ед.\n"
     ]
    }
   ],
   "source": [
    "# Пополнить баланс\n",
    "CurrentUser.billing.refund(5)"
   ]
  },
  {
   "cell_type": "code",
   "execution_count": 14,
   "metadata": {},
   "outputs": [
    {
     "name": "stdout",
     "output_type": "stream",
     "text": [
      "Лимиты бесплатных вызовов в день обновлены. Сейчас доступно — 3\n"
     ]
    }
   ],
   "source": [
    "# Сбросить счетчик бесплатных генераций в день\n",
    "CurrentUser.billing.refillLimits()"
   ]
  },
  {
   "cell_type": "code",
   "execution_count": 15,
   "metadata": {},
   "outputs": [
    {
     "name": "stdout",
     "output_type": "stream",
     "text": [
      "Имя пользователя =  dmagog\n",
      "Эл. почта =  georgy-mamarin@mail.ru\n",
      "Дата регистрации =  2025-03-26 12:44:12.952386\n",
      "Роль =  1\n",
      "Бесплатных операций в день =  3\n",
      "\n",
      "Балланс =  12\n",
      "Бесплатных операций осталось =  3\n",
      "Последняя операция =  2025-03-26 12:44:12.885986\n",
      "Всего операций =  1\n",
      "Операций cегодня =  1\n",
      "\n",
      "Иницализация =  True\n"
     ]
    }
   ],
   "source": [
    "showUserDetails(CurrentUser)"
   ]
  }
 ],
 "metadata": {
  "kernelspec": {
   "display_name": "Python 3",
   "language": "python",
   "name": "python3"
  },
  "language_info": {
   "codemirror_mode": {
    "name": "ipython",
    "version": 3
   },
   "file_extension": ".py",
   "mimetype": "text/x-python",
   "name": "python",
   "nbconvert_exporter": "python",
   "pygments_lexer": "ipython3",
   "version": "3.12.0"
  }
 },
 "nbformat": 4,
 "nbformat_minor": 2
}
