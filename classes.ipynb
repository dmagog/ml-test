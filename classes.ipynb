{
 "cells": [
  {
   "cell_type": "markdown",
   "metadata": {},
   "source": [
    "***Задание №1***\n",
    "\n",
    "Спроектировать объектную модель сервиса:\n",
    "* Выделить базовые сущности с которыми будет происходить работа. Пользователь, ML модель, история транзакций/предсказаний, задача для ML модели и т.д.\n",
    "* При проектирование написать названия классов, названия полей, методов, принимаемых типов данных, модификаторов доступа.\n",
    "* При проектирование использовать все базовые принципы ООП, а именно инкапсуляцию, наследование для расширения классов и полиморфизм."
   ]
  },
  {
   "cell_type": "code",
   "execution_count": 275,
   "metadata": {},
   "outputs": [],
   "source": [
    "import numpy as np\n",
    "import pandas as pd\n",
    "import datetime\n",
    "import random"
   ]
  },
  {
   "cell_type": "markdown",
   "metadata": {},
   "source": [
    "## ML-модель"
   ]
  },
  {
   "cell_type": "code",
   "execution_count": 584,
   "metadata": {},
   "outputs": [],
   "source": [
    "# Простой класс для хранения модели и ее обще описательных характеристик\n",
    "\n",
    "class MLmodel:\n",
    "    def __init__(self, model, name, version, description):\n",
    "        self.model = model # сама модель\n",
    "        self.name = name # Название модели\n",
    "        self.version = version # Версия модели\n",
    "        self.description = description # Описательная характеристика модели\n",
    "\n",
    "    def __str__(self):\n",
    "        print(f\"{self.model} \\n\" \\\n",
    "               f\"Название: {self.name} \\n\"  \\\n",
    "               f\"Версия: {self.version} \\n\" \\\n",
    "               f\"Описание: {self.description}\")"
   ]
  },
  {
   "cell_type": "code",
   "execution_count": 590,
   "metadata": {},
   "outputs": [],
   "source": [
    "# Наследуемый класс модели для учета ее параметров использования\n",
    "\n",
    "class UsableModel(MLmodel):\n",
    "    def __init__(self, model, name, version, description, price):\n",
    "        super().__init__(model, name, version, description)\n",
    "        self.price = price # Стоимость использования модели\n",
    "\n",
    "        self.StatusOperation = None # Статус последнего запуска\n",
    "        self.Result = None # Результаты работы модели\n",
    "\n",
    "    def run(self):\n",
    "        # Запускаем модель и сообщаем о статусе\n",
    "        self.StatusOperation = bool(random.randint(0, 1)) # Успешность модели пока рандомна - может работать, а может нет\n",
    "        print('| Модель сработала: ', self.StatusOperation, '|\\n' )\n",
    "        self.Result = 'Результаты работы модели'    \n",
    "\n",
    "    def __str__(self):\n",
    "        super().__str__()\n",
    "        print(f\"Стоимость: {self.price} \\n\"  \\\n",
    "              f\"Статус последнего запуска: {self.StatusOperation}\") "
   ]
  },
  {
   "cell_type": "code",
   "execution_count": 592,
   "metadata": {},
   "outputs": [],
   "source": [
    "CurrModel_1 = UsableModel('', 'Убиватор-3000', '1.01', 'Офигенская модель, прям всем советую только ее',\n",
    "                          price = 1)\n",
    "\n",
    "CurrModel_2 = UsableModel('', 'УльтраУбиватор-9000', '3.33', 'Еще более крутая и дорогая модель.',\n",
    "                          price = 2)"
   ]
  },
  {
   "cell_type": "markdown",
   "metadata": {},
   "source": [
    "## Пользователь"
   ]
  },
  {
   "cell_type": "code",
   "execution_count": 712,
   "metadata": {},
   "outputs": [],
   "source": [
    "class User:\n",
    "\n",
    "    def __init__(self, name, email, startBallance, FreeLimitPerDay):\n",
    "        self.name = name # имя пользователя\n",
    "        self.email = email # электронный адрес для взаимодействия\n",
    "        self.RegDate = datetime.datetime.now() # Дата-время регистрации\n",
    "        self.role = 0 # Роль, по умолчанию \"пользователь\"\n",
    "        \n",
    "        self.rang = 0 # Ранг пользоватля (может влиять на количество бесплатных операций)\n",
    "        self.FreeLimitPerDay = FreeLimitPerDay # Количество бесплатных операций в сутки\n",
    "\n",
    "        self.ballance = startBallance # Стартовый балланс\n",
    "        self.LastOperationDate = np.NaN # Дата последней удачной операции\n",
    "        self.HistoryOperation = pd.DataFrame(columns=['Date', 'Operation', 'Success']) # Список всех операций и дата свершения\n",
    "        \n",
    "        self.OperationAll = 0 # Сколько операций сделано за все время\n",
    "        self.OperationToday = 0 # сколько операций сделано сегодня\n",
    "        self.FreeLimitToday = FreeLimitPerDay # сколько обесплатных операций осталось на сегодня\n",
    "\n",
    "        self.GetFirstOperation = False # Прошел ли пользователь инициацию первым успешным использованием сервисв\n",
    "        \n",
    "\n",
    "    # Операция пополнения балланса    \n",
    "    def refund(self, payment):\n",
    "        self.ballance += payment\n",
    "        print(f\"Пополнение баланса на {payment} ед. прошлошло успешно. Текущий балланс — {self.ballance} ед.\")\n",
    "\n",
    "\n",
    "    # Операция возобновления суточных лимитов\n",
    "    def refillLimits(self, Num = None):\n",
    "        # если Num == 0, значит возобновим лимит полностью\n",
    "        # во всех остальных случаях делаем +Num\n",
    "        if Num == None:\n",
    "            self.FreeLimitToday = self.FreeLimitPerDay\n",
    "        else:\n",
    "            self.FreeLimitToday += Num\n",
    "        \n",
    "        print(f\"Лимиты бесплатных вызовов в день обновлены. Сейчас доступно — {self.FreeLimitToday}\")\n",
    "\n",
    "\n",
    "    # Операция получения балланса пользователя\n",
    "    def get_ballance(self):\n",
    "        return self.ballance \n",
    "\n",
    "\n",
    "    # Оплата операции\n",
    "    def pay(self, payment):\n",
    "        ResultOperation = False # все плохо, если ничто это го не изменит\n",
    "\n",
    "        # Если пользователь не исчерпал бесплатные операции на день - он ничего не платит\n",
    "        # Если исчерпал - платит\n",
    "        if self.FreeLimitToday > 0:\n",
    "            self.FreeLimitToday -= 1\n",
    "            ResultOperation = True\n",
    "        else:    \n",
    "            if self.ballance - payment >= 0:\n",
    "                self.ballance -= payment\n",
    "                ResultOperation = True\n",
    "            else:\n",
    "                print(f\"Пополните баланс или дождитесь возобновления суточного лимита обращений. \\nДля выполнения операции не хватает {abs(self.ballance - payment)} ед.\")\n",
    "            \n",
    "        return ResultOperation\n",
    "\n",
    "    \n",
    "    # Операция обновления истории действий пользователя\n",
    "    def updateHistory(self, Date, Operation, Success):\n",
    "        LastPos = len(self.HistoryOperation)\n",
    "        self.HistoryOperation.loc[LastPos, 'Date'] = Date\n",
    "        self.HistoryOperation.loc[LastPos, 'Operation'] = Operation\n",
    "        self.HistoryOperation.loc[LastPos, 'Success'] = Success\n",
    "\n",
    "\n",
    "\n",
    "    def useModel(self, payment, model: MLmodel):\n",
    "        #Процедура запуска модели, с проверкой возможности запуска, сохранением параметров и списания баланса\n",
    "        ResultOperation = False # все плохо, если ничто это го не изменит\n",
    "\n",
    "        if self.pay(payment):\n",
    "            # Если платеж прошел или мы можем провести операцию бесплатно в рамках лимита\n",
    "            model.run()\n",
    "            self.updateHistory(Date = datetime.datetime.now(),\n",
    "                    Operation = 'Запуск модели',\n",
    "                    Success = model.StatusOperation)\n",
    "\n",
    "\n",
    "\n",
    "            if not model.StatusOperation:\n",
    "                # Если запуск модели был неудачный, нужно вернуть оплату \n",
    "                # Если операция шла за счет бесплатных, то вернем клиенту это деньгами (надеюсь, нас не обонкротят :О))\n",
    "                self.refund(payment)\n",
    "            else:\n",
    "                ResultOperation = True\n",
    "                \n",
    "                self.LastOperationDate = datetime.datetime.now()\n",
    "                self.OperationToday += 1\n",
    "                self.OperationAll += 1\n",
    "\n",
    "                if not self.GetFirstOperation:\n",
    "                    # Если пользователь совершил свою самею первую операцию - отметим этом\n",
    "                    self.GetFirstOperation = True\n",
    "\n",
    "                    # И вообще, можем его как то поздравить!\n",
    "\n",
    "        return ResultOperation"
   ]
  },
  {
   "cell_type": "code",
   "execution_count": 511,
   "metadata": {},
   "outputs": [],
   "source": [
    "# Функция вывода профиля пользователя\n",
    "def showUserDetails(CurrentUser):\n",
    "    print('Имя пользователя = ', CurrentUser.name)\n",
    "    print('Эл. почта = ', CurrentUser.email)\n",
    "    print('Дата регистрации = ', CurrentUser.RegDate)\n",
    "    print('Роль = ', CurrentUser.role)\n",
    "    print('Ранг = ', CurrentUser.rang)\n",
    "    print('Бесплатных операций в день = ', CurrentUser.FreeLimitPerDay)\n",
    "\n",
    "    print()\n",
    "    print('Балланс = ', CurrentUser.ballance)\n",
    "    print('Последняя операция = ', CurrentUser.LastOperationDate)\n",
    "    print('Всего операций = ', CurrentUser.OperationAll)\n",
    "    print('Операций cегодня = ', CurrentUser.OperationToday)\n",
    "    print('Бесплатных операций осталось = ', CurrentUser.FreeLimitToday)\n",
    "\n",
    "    print()\n",
    "    print('Иницализация = ', CurrentUser.GetFirstOperation)\n",
    "\n"
   ]
  },
  {
   "cell_type": "markdown",
   "metadata": {},
   "source": [
    "## Демонстрация работы"
   ]
  },
  {
   "cell_type": "code",
   "execution_count": 713,
   "metadata": {},
   "outputs": [
    {
     "data": {
      "text/plain": [
       "<__main__.User at 0x125bf14f0>"
      ]
     },
     "execution_count": 713,
     "metadata": {},
     "output_type": "execute_result"
    }
   ],
   "source": [
    "# Создание пользователя\n",
    "CurrentUser = User(name = 'dmagog',\n",
    "                   email = 'georgy-mamarin@mail.ru',\n",
    "                   startBallance = 5,\n",
    "                   FreeLimitPerDay = 3)\n",
    "\n",
    "CurrentUser"
   ]
  },
  {
   "cell_type": "code",
   "execution_count": 719,
   "metadata": {},
   "outputs": [
    {
     "name": "stdout",
     "output_type": "stream",
     "text": [
      "| Модель сработала:  False |\n",
      "\n",
      "Пополнение баланса на 2 ед. прошлошло успешно. Текущий балланс — 3 ед.\n",
      "\n",
      "Балланс =  3\n",
      "Последняя операция =  2025-03-24 15:56:35.236218\n",
      "Всего операций =  4\n",
      "Операций cегодня =  4\n",
      "Бесплатных операций осталось =  0\n",
      "\n",
      "                         Date      Operation Success\n",
      "0  2025-03-24 15:56:33.856679  Запуск модели    True\n",
      "1  2025-03-24 15:56:34.211091  Запуск модели   False\n",
      "2  2025-03-24 15:56:34.711870  Запуск модели    True\n",
      "3  2025-03-24 15:56:35.056205  Запуск модели    True\n",
      "4  2025-03-24 15:56:35.235494  Запуск модели    True\n",
      "5  2025-03-24 15:56:35.412161  Запуск модели   False\n"
     ]
    }
   ],
   "source": [
    "# Для демонстрации сделаем выбор модели случайным образом\n",
    "if bool(random.randint(0, 1)): CurrModel = CurrModel_1\n",
    "else: CurrModel = CurrModel_2\n",
    "\n",
    "#Пользователь вызывает модель\n",
    "CurrentUser.useModel(model = CurrModel, \n",
    "                     payment = CurrModel.price)\n",
    "\n",
    "\n",
    "print()\n",
    "print('Балланс = ', CurrentUser.ballance)\n",
    "print('Последняя операция = ', CurrentUser.LastOperationDate)\n",
    "print('Всего операций = ', CurrentUser.OperationAll)\n",
    "print('Операций cегодня = ', CurrentUser.OperationToday)\n",
    "print('Бесплатных операций осталось = ', CurrentUser.FreeLimitToday)\n",
    "\n",
    "print()\n",
    "print(CurrentUser.HistoryOperation)"
   ]
  },
  {
   "cell_type": "code",
   "execution_count": 431,
   "metadata": {},
   "outputs": [
    {
     "name": "stdout",
     "output_type": "stream",
     "text": [
      "Пополнение баланса на 5 ед. прошлошло успешно. Текущий балланс — 35 ед.\n"
     ]
    }
   ],
   "source": [
    "# Пополнить баланс\n",
    "CurrentUser.refund(5)"
   ]
  },
  {
   "cell_type": "code",
   "execution_count": 721,
   "metadata": {},
   "outputs": [
    {
     "name": "stdout",
     "output_type": "stream",
     "text": [
      "Лимиты бесплатных вызовов в день обновлены. Сейчас доступно — 3\n"
     ]
    }
   ],
   "source": [
    "# Сбросить счетчик бесплатных генераций в день\n",
    "CurrentUser.refillLimits()"
   ]
  },
  {
   "cell_type": "code",
   "execution_count": null,
   "metadata": {},
   "outputs": [
    {
     "name": "stdout",
     "output_type": "stream",
     "text": [
      "Имя пользователя =  dmagog\n",
      "Эл. почта =  georgy-mamarin@mail.ru\n",
      "Дата регистрации =  2025-03-24 15:56:31.881058\n",
      "Роль =  0\n",
      "Ранг =  0\n",
      "Бесплатных операций в день =  3\n",
      "\n",
      "Балланс =  3\n",
      "Последняя операция =  2025-03-24 15:56:35.236218\n",
      "Всего операций =  4\n",
      "Операций cегодня =  4\n",
      "Бесплатных операций осталось =  3\n",
      "\n",
      "Иницализация =  True\n"
     ]
    }
   ],
   "source": [
    "showUserDetails(CurrentUser)"
   ]
  }
 ],
 "metadata": {
  "kernelspec": {
   "display_name": "Python 3",
   "language": "python",
   "name": "python3"
  },
  "language_info": {
   "codemirror_mode": {
    "name": "ipython",
    "version": 3
   },
   "file_extension": ".py",
   "mimetype": "text/x-python",
   "name": "python",
   "nbconvert_exporter": "python",
   "pygments_lexer": "ipython3",
   "version": "3.12.0"
  }
 },
 "nbformat": 4,
 "nbformat_minor": 2
}
